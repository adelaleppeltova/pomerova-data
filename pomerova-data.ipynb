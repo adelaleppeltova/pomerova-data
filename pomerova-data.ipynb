{
 "cells": [
  {
   "cell_type": "markdown",
   "metadata": {},
   "source": [
    "# Poměrová data ve formě Jupyter notebooku – Bc. Adéla Leppeltová\n",
    "***"
   ]
  },
  {
   "cell_type": "markdown",
   "metadata": {},
   "source": [
    "## Výzkumné otázky\n",
    "1. Liší se zaměstnanost absolventa podle oboru?\n",
    "2. Jaký je vztah mezi oborem studia a výší platu?"
   ]
  },
  {
   "cell_type": "markdown",
   "metadata": {},
   "source": [
    "## Popis výzkumného souboru\n",
    "Tento dataset poskytuje informace o absolventech bakalářského studia na vysokých školách v USA a o jejich uplatnění na trhu práce. Obsahuje údaje, jako je pohlaví, věk, obor studia, název školy, zda byli zaměstnáni, plat, GPA a roky praxe.\n",
    "\n",
    "Dataset obsahuje 700 řádků a 11 sloupců.\n",
    "\n",
    "\n",
    "[Odkaz na dataset](https://www.kaggle.com/datasets/mahad049/job-placement-dataset)"
   ]
  },
  {
   "cell_type": "code",
   "execution_count": 2,
   "metadata": {},
   "outputs": [
    {
     "name": "stdout",
     "output_type": "stream",
     "text": [
      "   id             name  gender  age      degree                  stream  \\\n",
      "0   1         John Doe    Male   25  Bachelor's        Computer Science   \n",
      "1   2       Jane Smith  Female   24  Bachelor's  Electrical Engineering   \n",
      "2   3  Michael Johnson    Male   26  Bachelor's  Mechanical Engineering   \n",
      "3   4      Emily Davis  Female   23  Bachelor's  Information Technology   \n",
      "4   5      David Brown    Male   24  Bachelor's        Computer Science   \n",
      "\n",
      "                            college_name placement_status  salary  gpa  \\\n",
      "0                     Harvard University           Placed   60000  3.7   \n",
      "1  Massachusetts Institute of Technology           Placed   65000  3.6   \n",
      "2                    Stanford University           Placed   58000  3.8   \n",
      "3                        Yale University       Not Placed       0  3.5   \n",
      "4                   Princeton University           Placed   62000  3.9   \n",
      "\n",
      "   years_of_experience  \n",
      "0                  2.0  \n",
      "1                  1.0  \n",
      "2                  3.0  \n",
      "3                  2.0  \n",
      "4                  2.0  \n",
      "<class 'pandas.core.frame.DataFrame'>\n",
      "RangeIndex: 700 entries, 0 to 699\n",
      "Data columns (total 11 columns):\n",
      " #   Column               Non-Null Count  Dtype  \n",
      "---  ------               --------------  -----  \n",
      " 0   id                   700 non-null    int64  \n",
      " 1   name                 700 non-null    object \n",
      " 2   gender               700 non-null    object \n",
      " 3   age                  700 non-null    int64  \n",
      " 4   degree               700 non-null    object \n",
      " 5   stream               700 non-null    object \n",
      " 6   college_name         700 non-null    object \n",
      " 7   placement_status     700 non-null    object \n",
      " 8   salary               700 non-null    int64  \n",
      " 9   gpa                  700 non-null    float64\n",
      " 10  years_of_experience  699 non-null    float64\n",
      "dtypes: float64(2), int64(3), object(6)\n",
      "memory usage: 60.3+ KB\n",
      "None\n"
     ]
    }
   ],
   "source": [
    "import numpy as np    \n",
    "import pandas as pd   \n",
    "import matplotlib.pyplot as plt\n",
    "import seaborn as sns\n",
    "\n",
    "df = pd.read_csv(\"job_placement.csv\")\n",
    "\n",
    "print(df.head())\n",
    "print(df.info())\n"
   ]
  },
  {
   "cell_type": "code",
   "execution_count": 3,
   "metadata": {},
   "outputs": [
    {
     "name": "stdout",
     "output_type": "stream",
     "text": [
      "  Pohlaví  Počet\n",
      "0  Female    366\n",
      "1    Male    334\n"
     ]
    }
   ],
   "source": [
    "# Počet mužů a žen\n",
    "gender_counts = df['gender'].value_counts()\n",
    "\n",
    "# Vytvoření tabulky\n",
    "gender_table = pd.DataFrame({'Pohlaví': gender_counts.index, 'Počet': gender_counts.values})\n",
    "\n",
    "print(gender_table)\n",
    "\n"
   ]
  },
  {
   "cell_type": "markdown",
   "metadata": {},
   "source": [
    "## Missing values"
   ]
  },
  {
   "cell_type": "code",
   "execution_count": 4,
   "metadata": {},
   "outputs": [
    {
     "name": "stdout",
     "output_type": "stream",
     "text": [
      "Chybějící hodnoty:\n",
      "id                     0\n",
      "name                   0\n",
      "gender                 0\n",
      "age                    0\n",
      "degree                 0\n",
      "stream                 0\n",
      "college_name           0\n",
      "placement_status       0\n",
      "salary                 0\n",
      "gpa                    0\n",
      "years_of_experience    1\n",
      "dtype: int64\n"
     ]
    }
   ],
   "source": [
    "missing_values = df.isnull().sum()\n",
    "print(\"Chybějící hodnoty:\")\n",
    "print(missing_values)\n"
   ]
  },
  {
   "cell_type": "markdown",
   "metadata": {},
   "source": [
    "## Odstranění duplicit"
   ]
  },
  {
   "cell_type": "code",
   "execution_count": 5,
   "metadata": {},
   "outputs": [
    {
     "name": "stdout",
     "output_type": "stream",
     "text": [
      "Počet řádků po odstranění duplicit:  700\n"
     ]
    }
   ],
   "source": [
    "# Odstranění duplicitních záznamů\n",
    "dataset = df.drop_duplicates()\n",
    "print(\"Počet řádků po odstranění duplicit: \", len(dataset))\n"
   ]
  },
  {
   "cell_type": "markdown",
   "metadata": {},
   "source": [
    "## Kontrola validity dat"
   ]
  },
  {
   "cell_type": "code",
   "execution_count": 6,
   "metadata": {},
   "outputs": [
    {
     "name": "stdout",
     "output_type": "stream",
     "text": [
      "Minimální plat: 0\n",
      "Maximální plat: 68000\n",
      "Počet záporných hodnot proměnné 'salary': 0\n",
      "Hodnoty proměnné 'stream': ['Computer Science' 'Electrical Engineering' 'Mechanical Engineering'\n",
      " 'Information Technology' 'Electronics and Communication']\n",
      "Hodnoty proměnné 'placement_status': ['Placed' 'Not Placed']\n"
     ]
    }
   ],
   "source": [
    "# Kontrola validity dat pro proměnnou 'salary'\n",
    "print(\"Minimální plat:\", dataset['salary'].min())\n",
    "print(\"Maximální plat:\", dataset['salary'].max())\n",
    "# Kontrola negativních hodnot\n",
    "negative_salary = df[df['salary'] < 0]\n",
    "print(\"Počet záporných hodnot proměnné 'salary':\", len(negative_salary))\n",
    "\n",
    "# Kontrola validity dat pro proměnnou 'stream'\n",
    "unique_streams = df['stream'].unique()\n",
    "print(\"Hodnoty proměnné 'stream':\", unique_streams)\n",
    "\n",
    "# Kontrola validity dat pro proměnnou 'placement_status'\n",
    "unique_placement_status = df['placement_status'].unique()\n",
    "print(\"Hodnoty proměnné 'placement_status':\", unique_placement_status)"
   ]
  },
  {
   "cell_type": "code",
   "execution_count": 7,
   "metadata": {},
   "outputs": [
    {
     "data": {
      "text/html": [
       "<div>\n",
       "<style scoped>\n",
       "    .dataframe tbody tr th:only-of-type {\n",
       "        vertical-align: middle;\n",
       "    }\n",
       "\n",
       "    .dataframe tbody tr th {\n",
       "        vertical-align: top;\n",
       "    }\n",
       "\n",
       "    .dataframe thead th {\n",
       "        text-align: right;\n",
       "    }\n",
       "</style>\n",
       "<table border=\"1\" class=\"dataframe\">\n",
       "  <thead>\n",
       "    <tr style=\"text-align: right;\">\n",
       "      <th></th>\n",
       "      <th>id</th>\n",
       "      <th>age</th>\n",
       "      <th>salary</th>\n",
       "      <th>gpa</th>\n",
       "      <th>years_of_experience</th>\n",
       "    </tr>\n",
       "  </thead>\n",
       "  <tbody>\n",
       "    <tr>\n",
       "      <th>count</th>\n",
       "      <td>700.00000</td>\n",
       "      <td>700.000000</td>\n",
       "      <td>700.000000</td>\n",
       "      <td>700.000000</td>\n",
       "      <td>699.000000</td>\n",
       "    </tr>\n",
       "    <tr>\n",
       "      <th>mean</th>\n",
       "      <td>350.50000</td>\n",
       "      <td>24.411429</td>\n",
       "      <td>52474.285714</td>\n",
       "      <td>3.750429</td>\n",
       "      <td>2.177396</td>\n",
       "    </tr>\n",
       "    <tr>\n",
       "      <th>std</th>\n",
       "      <td>202.21688</td>\n",
       "      <td>1.164268</td>\n",
       "      <td>25160.331005</td>\n",
       "      <td>0.121212</td>\n",
       "      <td>0.779393</td>\n",
       "    </tr>\n",
       "    <tr>\n",
       "      <th>min</th>\n",
       "      <td>1.00000</td>\n",
       "      <td>23.000000</td>\n",
       "      <td>0.000000</td>\n",
       "      <td>3.400000</td>\n",
       "      <td>1.000000</td>\n",
       "    </tr>\n",
       "    <tr>\n",
       "      <th>25%</th>\n",
       "      <td>175.75000</td>\n",
       "      <td>23.000000</td>\n",
       "      <td>61000.000000</td>\n",
       "      <td>3.700000</td>\n",
       "      <td>2.000000</td>\n",
       "    </tr>\n",
       "    <tr>\n",
       "      <th>50%</th>\n",
       "      <td>350.50000</td>\n",
       "      <td>24.000000</td>\n",
       "      <td>64000.000000</td>\n",
       "      <td>3.800000</td>\n",
       "      <td>2.000000</td>\n",
       "    </tr>\n",
       "    <tr>\n",
       "      <th>75%</th>\n",
       "      <td>525.25000</td>\n",
       "      <td>26.000000</td>\n",
       "      <td>66000.000000</td>\n",
       "      <td>3.900000</td>\n",
       "      <td>3.000000</td>\n",
       "    </tr>\n",
       "    <tr>\n",
       "      <th>max</th>\n",
       "      <td>700.00000</td>\n",
       "      <td>26.000000</td>\n",
       "      <td>68000.000000</td>\n",
       "      <td>3.900000</td>\n",
       "      <td>3.000000</td>\n",
       "    </tr>\n",
       "  </tbody>\n",
       "</table>\n",
       "</div>"
      ],
      "text/plain": [
       "              id         age        salary         gpa  years_of_experience\n",
       "count  700.00000  700.000000    700.000000  700.000000           699.000000\n",
       "mean   350.50000   24.411429  52474.285714    3.750429             2.177396\n",
       "std    202.21688    1.164268  25160.331005    0.121212             0.779393\n",
       "min      1.00000   23.000000      0.000000    3.400000             1.000000\n",
       "25%    175.75000   23.000000  61000.000000    3.700000             2.000000\n",
       "50%    350.50000   24.000000  64000.000000    3.800000             2.000000\n",
       "75%    525.25000   26.000000  66000.000000    3.900000             3.000000\n",
       "max    700.00000   26.000000  68000.000000    3.900000             3.000000"
      ]
     },
     "execution_count": 7,
     "metadata": {},
     "output_type": "execute_result"
    }
   ],
   "source": [
    "# Základní statistiky\n",
    "df.describe()"
   ]
  },
  {
   "cell_type": "markdown",
   "metadata": {},
   "source": [
    "## Liší se zaměstnanost absolventa podle oboru?"
   ]
  },
  {
   "cell_type": "code",
   "execution_count": 8,
   "metadata": {},
   "outputs": [
    {
     "name": "stdout",
     "output_type": "stream",
     "text": [
      "Poměr zaměstnaných a nezaměstnaných absolventů podle oboru studia:\n",
      "placement_status               Not Placed    Placed\n",
      "stream                                             \n",
      "Computer Science                 0.247664  0.752336\n",
      "Electrical Engineering           0.196429  0.803571\n",
      "Electronics and Communication    0.090090  0.909910\n",
      "Information Technology           0.157895  0.842105\n",
      "Mechanical Engineering           0.189189  0.810811\n"
     ]
    },
    {
     "data": {
      "image/png": "[encoded data removed]",
      "text/plain": [
       "<Figure size 640x480 with 1 Axes>"
      ]
     },
     "metadata": {},
     "output_type": "display_data"
    },
    {
     "data": {
      "image/png": "[encoded data removed]",
      "text/plain": [
       "<Figure size 640x480 with 1 Axes>"
      ]
     },
     "metadata": {},
     "output_type": "display_data"
    }
   ],
   "source": [
    "employment_by_major = df.groupby('stream')['placement_status'].value_counts(normalize=True).unstack()\n",
    "print(\"Poměr zaměstnaných a nezaměstnaných absolventů podle oboru studia:\")\n",
    "print(employment_by_major)\n",
    "\n",
    "#Základní graf\n",
    "employment_by_major.plot(kind='bar' )\n",
    "plt.show()\n",
    "\n",
    "#Vylepšení\n",
    "employment_by_major.plot(kind='bar', stacked=True, color=['firebrick', 'steelblue'] )\n",
    "plt.title('Poměr zaměstnaných a nezaměstnaných absolventů podle oboru studia')\n",
    "plt.xlabel('')\n",
    "plt.ylabel('')\n",
    "plt.legend(frameon=False, loc='lower left',bbox_to_anchor=(0.85, -0.4), labels=['Nezaměstnaný', 'Zaměstnaný'],prop={'size': 8})\n",
    "plt.xticks(rotation=30, ha='right', fontsize=9)\n",
    "plt.tight_layout()\n",
    "plt.show()"
   ]
  },
  {
   "cell_type": "markdown",
   "metadata": {},
   "source": [
    "## Jaký je vztah mezi oborem studia a výší platu?"
   ]
  },
  {
   "cell_type": "code",
   "execution_count": 9,
   "metadata": {},
   "outputs": [
    {
     "data": {
      "image/png": "[encoded data removed]",
      "text/plain": [
       "<Figure size 1200x800 with 1 Axes>"
      ]
     },
     "metadata": {},
     "output_type": "display_data"
    },
    {
     "data": {
      "image/png": "[encoded data removed]",
      "text/plain": [
       "<Figure size 1200x800 with 1 Axes>"
      ]
     },
     "metadata": {},
     "output_type": "display_data"
    }
   ],
   "source": [
    "#očištění od nulových platů\n",
    "df_cleaned = df[df['salary'] != 0]\n",
    "\n",
    "#Základní graf\n",
    "plt.figure(figsize=(12, 8))\n",
    "sns.boxplot(x='stream', y='salary', data=df_cleaned)\n",
    "plt.show()\n",
    "\n",
    "#Vylepšení\n",
    "plt.figure(figsize=(12, 8))\n",
    "sns.boxplot(x='salary', y='stream', data=df_cleaned, palette='Set2', hue='stream', legend=False)\n",
    "plt.title('Výše platu podle oboru studia')\n",
    "plt.xlabel('')\n",
    "plt.ylabel('')\n",
    "plt.xticks(rotation=0, ha='right')\n",
    "plt.show()"
   ]
  },
  {
   "cell_type": "markdown",
   "metadata": {},
   "source": [
    "## Podíl mužů a žen podle oboru studia"
   ]
  },
  {
   "cell_type": "code",
   "execution_count": 10,
   "metadata": {},
   "outputs": [
    {
     "data": {
      "image/png": "[encoded data removed]",
      "text/plain": [
       "<Figure size 1200x800 with 1 Axes>"
      ]
     },
     "metadata": {},
     "output_type": "display_data"
    }
   ],
   "source": [
    "# Počet mužů a žen podle oboru studia\n",
    "gender_by_major = df.groupby('stream')['gender'].value_counts(normalize=True).unstack()\n",
    "\n",
    "# Vytvoření heatmapy\n",
    "plt.figure(figsize=(12, 8))\n",
    "sns.heatmap(gender_by_major, annot=True, cmap='Greens', fmt=\".2%\", cbar=False, annot_kws={\"size\": 10})\n",
    "plt.title('Podíl mužů a žen podle oboru studia', fontsize=14)\n",
    "plt.xlabel('')\n",
    "plt.ylabel('')\n",
    "plt.xticks(rotation=0, ha='right', fontsize=10)\n",
    "plt.yticks(fontsize=10)\n",
    "plt.tight_layout()\n",
    "plt.show()\n"
   ]
  },
  {
   "cell_type": "code",
   "execution_count": 13,
   "metadata": {},
   "outputs": [
    {
     "data": {
      "application/vnd.plotly.v1+json": {
       "config": {
        "plotlyServerURL": "https://plot.ly"
       },
       "data": [
        {
         "marker": {
          "color": "steelblue"
         },
         "type": "histogram",
         "x": [
          60000,
          65000,
          58000,
          0,
          62000,
          63000,
          59000,
          0,
          64000,
          57000,
          61000,
          0,
          63000,
          64000,
          66000,
          0,
          61000,
          62000,
          59000,
          65000,
          67000,
          0,
          60000,
          63000,
          60000,
          0,
          64000,
          66000,
          59000,
          62000,
          61000,
          0,
          65000,
          64000,
          67000,
          0,
          63000,
          62000,
          60000,
          61000,
          0,
          65000,
          66000,
          63000,
          64000,
          0,
          65000,
          66000,
          67000,
          68000,
          0,
          67000,
          66000,
          65000,
          66000,
          0,
          63000,
          62000,
          60000,
          61000,
          0,
          65000,
          66000,
          63000,
          64000,
          0,
          65000,
          66000,
          67000,
          68000,
          0,
          67000,
          66000,
          65000,
          66000,
          0,
          63000,
          62000,
          60000,
          61000,
          0,
          65000,
          66000,
          63000,
          64000,
          0,
          65000,
          66000,
          67000,
          68000,
          0,
          67000,
          66000,
          65000,
          66000,
          0,
          63000,
          62000,
          60000,
          61000,
          0,
          65000,
          66000,
          63000,
          64000,
          0,
          65000,
          66000,
          67000,
          68000,
          0,
          67000,
          66000,
          65000,
          66000,
          0,
          63000,
          62000,
          60000,
          61000,
          0,
          65000,
          66000,
          63000,
          64000,
          0,
          65000,
          66000,
          67000,
          68000,
          0,
          67000,
          66000,
          65000,
          66000,
          0,
          63000,
          62000,
          60000,
          61000,
          0,
          65000,
          66000,
          63000,
          64000,
          0,
          65000,
          66000,
          67000,
          68000,
          0,
          67000,
          66000,
          65000,
          66000,
          0,
          63000,
          62000,
          60000,
          61000,
          0,
          65000,
          66000,
          63000,
          64000,
          0,
          65000,
          66000,
          67000,
          68000,
          0,
          67000,
          66000,
          65000,
          66000,
          0,
          63000,
          62000,
          60000,
          61000,
          0,
          65000,
          66000,
          63000,
          64000,
          0,
          65000,
          66000,
          61000,
          64000,
          66000,
          67000,
          68000,
          0,
          67000,
          66000,
          65000,
          66000,
          0,
          63000,
          64000,
          66000,
          67000,
          68000,
          0,
          67000,
          66000,
          65000,
          66000,
          0,
          63000,
          64000,
          66000,
          67000,
          68000,
          0,
          67000,
          66000,
          65000,
          66000,
          0,
          63000,
          64000,
          66000,
          67000,
          68000,
          0,
          67000,
          66000,
          65000,
          66000,
          0,
          63000,
          64000,
          66000,
          67000,
          68000,
          0,
          67000,
          66000,
          65000,
          66000,
          0,
          63000,
          64000,
          66000,
          67000,
          68000,
          0,
          67000,
          66000,
          65000,
          66000,
          0,
          63000,
          64000,
          66000,
          67000,
          68000,
          0,
          67000,
          66000,
          65000,
          66000,
          0,
          63000,
          64000,
          66000,
          67000,
          68000,
          0,
          67000,
          66000,
          65000,
          66000,
          64000,
          65000,
          67000,
          68000,
          0,
          67000,
          66000,
          65000,
          66000,
          0,
          63000,
          62000,
          60000,
          61000,
          0,
          65000,
          66000,
          63000,
          64000,
          67000,
          68000,
          0,
          67000,
          66000,
          65000,
          66000,
          0,
          63000,
          62000,
          60000,
          61000,
          0,
          65000,
          66000,
          63000,
          64000,
          67000,
          68000,
          0,
          67000,
          66000,
          65000,
          66000,
          0,
          63000,
          62000,
          60000,
          61000,
          0,
          65000,
          66000,
          63000,
          64000,
          67000,
          0,
          67000,
          66000,
          65000,
          65000,
          66000,
          0,
          63000,
          62000,
          60000,
          61000,
          0,
          65000,
          66000,
          63000,
          64000,
          67000,
          0,
          67000,
          66000,
          65000,
          66000,
          0,
          63000,
          62000,
          60000,
          61000,
          0,
          65000,
          66000,
          63000,
          64000,
          67000,
          0,
          67000,
          66000,
          65000,
          66000,
          0,
          63000,
          62000,
          60000,
          61000,
          0,
          65000,
          66000,
          63000,
          64000,
          67000,
          67000,
          66000,
          65000,
          66000,
          0,
          63000,
          62000,
          60000,
          61000,
          0,
          65000,
          66000,
          63000,
          64000,
          67000,
          0,
          67000,
          66000,
          65000,
          66000,
          0,
          63000,
          62000,
          60000,
          61000,
          0,
          65000,
          66000,
          63000,
          64000,
          67000,
          0,
          67000,
          66000,
          65000,
          66000,
          0,
          63000,
          62000,
          60000,
          61000,
          0,
          65000,
          66000,
          63000,
          64000,
          67000,
          0,
          67000,
          66000,
          65000,
          66000,
          0,
          63000,
          62000,
          60000,
          61000,
          0,
          65000,
          66000,
          63000,
          64000,
          67000,
          0,
          67000,
          66000,
          65000,
          66000,
          0,
          63000,
          62000,
          60000,
          61000,
          0,
          65000,
          66000,
          63000,
          64000,
          67000,
          0,
          67000,
          66000,
          65000,
          66000,
          0,
          63000,
          62000,
          60000,
          61000,
          0,
          65000,
          66000,
          63000,
          64000,
          67000,
          0,
          67000,
          66000,
          65000,
          66000,
          0,
          63000,
          62000,
          60000,
          61000,
          0,
          65000,
          66000,
          63000,
          64000,
          67000,
          0,
          67000,
          66000,
          65000,
          66000,
          0,
          63000,
          62000,
          60000,
          61000,
          0,
          65000,
          66000,
          63000,
          64000,
          67000,
          0,
          67000,
          66000,
          65000,
          66000,
          0,
          63000,
          62000,
          60000,
          61000,
          0,
          65000,
          66000,
          63000,
          64000,
          67000,
          67000,
          66000,
          65000,
          66000,
          0,
          63000,
          62000,
          60000,
          61000,
          0,
          65000,
          66000,
          63000,
          64000,
          67000,
          0,
          67000,
          66000,
          65000,
          66000,
          0,
          63000,
          62000,
          60000,
          0,
          65000,
          66000,
          63000,
          64000,
          67000,
          0,
          67000,
          66000,
          65000,
          66000,
          0,
          63000,
          62000,
          60000,
          61000,
          0,
          65000,
          66000,
          63000,
          64000,
          67000,
          0,
          67000,
          66000,
          65000,
          66000,
          0,
          63000,
          62000,
          60000,
          61000,
          0,
          65000,
          66000,
          63000,
          64000,
          67000,
          0,
          67000,
          66000,
          65000,
          66000,
          0,
          63000,
          62000,
          60000,
          61000,
          0,
          65000,
          66000,
          63000,
          64000,
          67000,
          67000,
          66000,
          65000,
          66000,
          0,
          63000,
          62000,
          60000,
          61000,
          0,
          65000,
          66000,
          63000,
          64000,
          67000,
          0,
          67000,
          66000,
          65000,
          66000,
          0,
          63000,
          62000,
          60000,
          61000,
          0,
          65000,
          66000,
          63000,
          64000,
          67000,
          0,
          67000,
          66000,
          65000,
          66000,
          0,
          63000,
          62000,
          60000,
          61000,
          0,
          65000,
          66000,
          63000,
          64000,
          67000,
          0,
          67000,
          66000,
          65000,
          66000,
          0,
          63000,
          62000,
          60000,
          61000,
          0,
          65000,
          66000,
          63000,
          64000,
          67000,
          0,
          67000,
          66000,
          65000,
          66000,
          0,
          63000,
          62000,
          60000,
          61000,
          0,
          65000,
          66000,
          63000,
          64000,
          67000,
          0,
          67000,
          66000,
          65000,
          66000,
          0,
          63000,
          62000,
          60000,
          61000,
          0,
          65000,
          66000,
          63000,
          64000,
          67000,
          0,
          67000,
          66000,
          65000,
          66000,
          0
         ]
        }
       ],
       "layout": {
        "bargap": 0.05,
        "template": {
         "data": {
          "bar": [
           {
            "error_x": {
             "color": "#2a3f5f"
            },
            "error_y": {
             "color": "#2a3f5f"
            },
            "marker": {
             "line": {
              "color": "#E5ECF6",
              "width": 0.5
             },
             "pattern": {
              "fillmode": "overlay",
              "size": 10,
              "solidity": 0.2
             }
            },
            "type": "bar"
           }
          ],
          "barpolar": [
           {
            "marker": {
             "line": {
              "color": "#E5ECF6",
              "width": 0.5
             },
             "pattern": {
              "fillmode": "overlay",
              "size": 10,
              "solidity": 0.2
             }
            },
            "type": "barpolar"
           }
          ],
          "carpet": [
           {
            "aaxis": {
             "endlinecolor": "#2a3f5f",
             "gridcolor": "white",
             "linecolor": "white",
             "minorgridcolor": "white",
             "startlinecolor": "#2a3f5f"
            },
            "baxis": {
             "endlinecolor": "#2a3f5f",
             "gridcolor": "white",
             "linecolor": "white",
             "minorgridcolor": "white",
             "startlinecolor": "#2a3f5f"
            },
            "type": "carpet"
           }
          ],
          "choropleth": [
           {
            "colorbar": {
             "outlinewidth": 0,
             "ticks": ""
            },
            "type": "choropleth"
           }
          ],
          "contour": [
           {
            "colorbar": {
             "outlinewidth": 0,
             "ticks": ""
            },
            "colorscale": [
             [
              0,
              "#0d0887"
             ],
             [
              0.1111111111111111,
              "#46039f"
             ],
             [
              0.2222222222222222,
              "#7201a8"
             ],
             [
              0.3333333333333333,
              "#9c179e"
             ],
             [
              0.4444444444444444,
              "#bd3786"
             ],
             [
              0.5555555555555556,
              "#d8576b"
             ],
             [
              0.6666666666666666,
              "#ed7953"
             ],
             [
              0.7777777777777778,
              "#fb9f3a"
             ],
             [
              0.8888888888888888,
              "#fdca26"
             ],
             [
              1,
              "#f0f921"
             ]
            ],
            "type": "contour"
           }
          ],
          "contourcarpet": [
           {
            "colorbar": {
             "outlinewidth": 0,
             "ticks": ""
            },
            "type": "contourcarpet"
           }
          ],
          "heatmap": [
           {
            "colorbar": {
             "outlinewidth": 0,
             "ticks": ""
            },
            "colorscale": [
             [
              0,
              "#0d0887"
             ],
             [
              0.1111111111111111,
              "#46039f"
             ],
             [
              0.2222222222222222,
              "#7201a8"
             ],
             [
              0.3333333333333333,
              "#9c179e"
             ],
             [
              0.4444444444444444,
              "#bd3786"
             ],
             [
              0.5555555555555556,
              "#d8576b"
             ],
             [
              0.6666666666666666,
              "#ed7953"
             ],
             [
              0.7777777777777778,
              "#fb9f3a"
             ],
             [
              0.8888888888888888,
              "#fdca26"
             ],
             [
              1,
              "#f0f921"
             ]
            ],
            "type": "heatmap"
           }
          ],
          "heatmapgl": [
           {
            "colorbar": {
             "outlinewidth": 0,
             "ticks": ""
            },
            "colorscale": [
             [
              0,
              "#0d0887"
             ],
             [
              0.1111111111111111,
              "#46039f"
             ],
             [
              0.2222222222222222,
              "#7201a8"
             ],
             [
              0.3333333333333333,
              "#9c179e"
             ],
             [
              0.4444444444444444,
              "#bd3786"
             ],
             [
              0.5555555555555556,
              "#d8576b"
             ],
             [
              0.6666666666666666,
              "#ed7953"
             ],
             [
              0.7777777777777778,
              "#fb9f3a"
             ],
             [
              0.8888888888888888,
              "#fdca26"
             ],
             [
              1,
              "#f0f921"
             ]
            ],
            "type": "heatmapgl"
           }
          ],
          "histogram": [
           {
            "marker": {
             "pattern": {
              "fillmode": "overlay",
              "size": 10,
              "solidity": 0.2
             }
            },
            "type": "histogram"
           }
          ],
          "histogram2d": [
           {
            "colorbar": {
             "outlinewidth": 0,
             "ticks": ""
            },
            "colorscale": [
             [
              0,
              "#0d0887"
             ],
             [
              0.1111111111111111,
              "#46039f"
             ],
             [
              0.2222222222222222,
              "#7201a8"
             ],
             [
              0.3333333333333333,
              "#9c179e"
             ],
             [
              0.4444444444444444,
              "#bd3786"
             ],
             [
              0.5555555555555556,
              "#d8576b"
             ],
             [
              0.6666666666666666,
              "#ed7953"
             ],
             [
              0.7777777777777778,
              "#fb9f3a"
             ],
             [
              0.8888888888888888,
              "#fdca26"
             ],
             [
              1,
              "#f0f921"
             ]
            ],
            "type": "histogram2d"
           }
          ],
          "histogram2dcontour": [
           {
            "colorbar": {
             "outlinewidth": 0,
             "ticks": ""
            },
            "colorscale": [
             [
              0,
              "#0d0887"
             ],
             [
              0.1111111111111111,
              "#46039f"
             ],
             [
              0.2222222222222222,
              "#7201a8"
             ],
             [
              0.3333333333333333,
              "#9c179e"
             ],
             [
              0.4444444444444444,
              "#bd3786"
             ],
             [
              0.5555555555555556,
              "#d8576b"
             ],
             [
              0.6666666666666666,
              "#ed7953"
             ],
             [
              0.7777777777777778,
              "#fb9f3a"
             ],
             [
              0.8888888888888888,
              "#fdca26"
             ],
             [
              1,
              "#f0f921"
             ]
            ],
            "type": "histogram2dcontour"
           }
          ],
          "mesh3d": [
           {
            "colorbar": {
             "outlinewidth": 0,
             "ticks": ""
            },
            "type": "mesh3d"
           }
          ],
          "parcoords": [
           {
            "line": {
             "colorbar": {
              "outlinewidth": 0,
              "ticks": ""
             }
            },
            "type": "parcoords"
           }
          ],
          "pie": [
           {
            "automargin": true,
            "type": "pie"
           }
          ],
          "scatter": [
           {
            "fillpattern": {
             "fillmode": "overlay",
             "size": 10,
             "solidity": 0.2
            },
            "type": "scatter"
           }
          ],
          "scatter3d": [
           {
            "line": {
             "colorbar": {
              "outlinewidth": 0,
              "ticks": ""
             }
            },
            "marker": {
             "colorbar": {
              "outlinewidth": 0,
              "ticks": ""
             }
            },
            "type": "scatter3d"
           }
          ],
          "scattercarpet": [
           {
            "marker": {
             "colorbar": {
              "outlinewidth": 0,
              "ticks": ""
             }
            },
            "type": "scattercarpet"
           }
          ],
          "scattergeo": [
           {
            "marker": {
             "colorbar": {
              "outlinewidth": 0,
              "ticks": ""
             }
            },
            "type": "scattergeo"
           }
          ],
          "scattergl": [
           {
            "marker": {
             "colorbar": {
              "outlinewidth": 0,
              "ticks": ""
             }
            },
            "type": "scattergl"
           }
          ],
          "scattermapbox": [
           {
            "marker": {
             "colorbar": {
              "outlinewidth": 0,
              "ticks": ""
             }
            },
            "type": "scattermapbox"
           }
          ],
          "scatterpolar": [
           {
            "marker": {
             "colorbar": {
              "outlinewidth": 0,
              "ticks": ""
             }
            },
            "type": "scatterpolar"
           }
          ],
          "scatterpolargl": [
           {
            "marker": {
             "colorbar": {
              "outlinewidth": 0,
              "ticks": ""
             }
            },
            "type": "scatterpolargl"
           }
          ],
          "scatterternary": [
           {
            "marker": {
             "colorbar": {
              "outlinewidth": 0,
              "ticks": ""
             }
            },
            "type": "scatterternary"
           }
          ],
          "surface": [
           {
            "colorbar": {
             "outlinewidth": 0,
             "ticks": ""
            },
            "colorscale": [
             [
              0,
              "#0d0887"
             ],
             [
              0.1111111111111111,
              "#46039f"
             ],
             [
              0.2222222222222222,
              "#7201a8"
             ],
             [
              0.3333333333333333,
              "#9c179e"
             ],
             [
              0.4444444444444444,
              "#bd3786"
             ],
             [
              0.5555555555555556,
              "#d8576b"
             ],
             [
              0.6666666666666666,
              "#ed7953"
             ],
             [
              0.7777777777777778,
              "#fb9f3a"
             ],
             [
              0.8888888888888888,
              "#fdca26"
             ],
             [
              1,
              "#f0f921"
             ]
            ],
            "type": "surface"
           }
          ],
          "table": [
           {
            "cells": {
             "fill": {
              "color": "#EBF0F8"
             },
             "line": {
              "color": "white"
             }
            },
            "header": {
             "fill": {
              "color": "#C8D4E3"
             },
             "line": {
              "color": "white"
             }
            },
            "type": "table"
           }
          ]
         },
         "layout": {
          "annotationdefaults": {
           "arrowcolor": "#2a3f5f",
           "arrowhead": 0,
           "arrowwidth": 1
          },
          "autotypenumbers": "strict",
          "coloraxis": {
           "colorbar": {
            "outlinewidth": 0,
            "ticks": ""
           }
          },
          "colorscale": {
           "diverging": [
            [
             0,
             "#8e0152"
            ],
            [
             0.1,
             "#c51b7d"
            ],
            [
             0.2,
             "#de77ae"
            ],
            [
             0.3,
             "#f1b6da"
            ],
            [
             0.4,
             "#fde0ef"
            ],
            [
             0.5,
             "#f7f7f7"
            ],
            [
             0.6,
             "#e6f5d0"
            ],
            [
             0.7,
             "#b8e186"
            ],
            [
             0.8,
             "#7fbc41"
            ],
            [
             0.9,
             "#4d9221"
            ],
            [
             1,
             "#276419"
            ]
           ],
           "sequential": [
            [
             0,
             "#0d0887"
            ],
            [
             0.1111111111111111,
             "#46039f"
            ],
            [
             0.2222222222222222,
             "#7201a8"
            ],
            [
             0.3333333333333333,
             "#9c179e"
            ],
            [
             0.4444444444444444,
             "#bd3786"
            ],
            [
             0.5555555555555556,
             "#d8576b"
            ],
            [
             0.6666666666666666,
             "#ed7953"
            ],
            [
             0.7777777777777778,
             "#fb9f3a"
            ],
            [
             0.8888888888888888,
             "#fdca26"
            ],
            [
             1,
             "#f0f921"
            ]
           ],
           "sequentialminus": [
            [
             0,
             "#0d0887"
            ],
            [
             0.1111111111111111,
             "#46039f"
            ],
            [
             0.2222222222222222,
             "#7201a8"
            ],
            [
             0.3333333333333333,
             "#9c179e"
            ],
            [
             0.4444444444444444,
             "#bd3786"
            ],
            [
             0.5555555555555556,
             "#d8576b"
            ],
            [
             0.6666666666666666,
             "#ed7953"
            ],
            [
             0.7777777777777778,
             "#fb9f3a"
            ],
            [
             0.8888888888888888,
             "#fdca26"
            ],
            [
             1,
             "#f0f921"
            ]
           ]
          },
          "colorway": [
           "#636efa",
           "#EF553B",
           "#00cc96",
           "#ab63fa",
           "#FFA15A",
           "#19d3f3",
           "#FF6692",
           "#B6E880",
           "#FF97FF",
           "#FECB52"
          ],
          "font": {
           "color": "#2a3f5f"
          },
          "geo": {
           "bgcolor": "white",
           "lakecolor": "white",
           "landcolor": "#E5ECF6",
           "showlakes": true,
           "showland": true,
           "subunitcolor": "white"
          },
          "hoverlabel": {
           "align": "left"
          },
          "hovermode": "closest",
          "mapbox": {
           "style": "light"
          },
          "paper_bgcolor": "white",
          "plot_bgcolor": "#E5ECF6",
          "polar": {
           "angularaxis": {
            "gridcolor": "white",
            "linecolor": "white",
            "ticks": ""
           },
           "bgcolor": "#E5ECF6",
           "radialaxis": {
            "gridcolor": "white",
            "linecolor": "white",
            "ticks": ""
           }
          },
          "scene": {
           "xaxis": {
            "backgroundcolor": "#E5ECF6",
            "gridcolor": "white",
            "gridwidth": 2,
            "linecolor": "white",
            "showbackground": true,
            "ticks": "",
            "zerolinecolor": "white"
           },
           "yaxis": {
            "backgroundcolor": "#E5ECF6",
            "gridcolor": "white",
            "gridwidth": 2,
            "linecolor": "white",
            "showbackground": true,
            "ticks": "",
            "zerolinecolor": "white"
           },
           "zaxis": {
            "backgroundcolor": "#E5ECF6",
            "gridcolor": "white",
            "gridwidth": 2,
            "linecolor": "white",
            "showbackground": true,
            "ticks": "",
            "zerolinecolor": "white"
           }
          },
          "shapedefaults": {
           "line": {
            "color": "#2a3f5f"
           }
          },
          "ternary": {
           "aaxis": {
            "gridcolor": "white",
            "linecolor": "white",
            "ticks": ""
           },
           "baxis": {
            "gridcolor": "white",
            "linecolor": "white",
            "ticks": ""
           },
           "bgcolor": "#E5ECF6",
           "caxis": {
            "gridcolor": "white",
            "linecolor": "white",
            "ticks": ""
           }
          },
          "title": {
           "x": 0.05
          },
          "xaxis": {
           "automargin": true,
           "gridcolor": "white",
           "linecolor": "white",
           "ticks": "",
           "title": {
            "standoff": 15
           },
           "zerolinecolor": "white",
           "zerolinewidth": 2
          },
          "yaxis": {
           "automargin": true,
           "gridcolor": "white",
           "linecolor": "white",
           "ticks": "",
           "title": {
            "standoff": 15
           },
           "zerolinecolor": "white",
           "zerolinewidth": 2
          }
         }
        },
        "title": {
         "text": "Histogram výše platů"
        },
        "xaxis": {
         "title": {
          "text": "Plat"
         }
        },
        "yaxis": {
         "title": {
          "text": "Počet"
         }
        }
       }
      }
     },
     "metadata": {},
     "output_type": "display_data"
    }
   ],
   "source": [
    "import plotly.graph_objects as go\n",
    "\n",
    "# Vytvoření histogramu\n",
    "fig = go.Figure(data=[go.Histogram(x=df['salary'], marker=dict(color='steelblue'))])\n",
    "\n",
    "# Nastavení os a titulku\n",
    "fig.update_layout(\n",
    "    title='Histogram výše platů',\n",
    "    xaxis_title='Plat',\n",
    "    yaxis_title='Počet',\n",
    "    bargap=0.05,  # mezera mezi sloupci histogramu\n",
    ")\n",
    "\n",
    "# Zobrazení grafu\n",
    "fig.show()\n"
   ]
  }
 ],
 "metadata": {
  "kernelspec": {
   "display_name": "Python 3",
   "language": "python",
   "name": "python3"
  },
  "language_info": {
   "codemirror_mode": {
    "name": "ipython",
    "version": 3
   },
   "file_extension": ".py",
   "mimetype": "text/x-python",
   "name": "python",
   "nbconvert_exporter": "python",
   "pygments_lexer": "ipython3",
   "version": "3.8.2"
  }
 },
 "nbformat": 4,
 "nbformat_minor": 2
}
